{
 "cells": [
  {
   "cell_type": "code",
   "execution_count": 2,
   "id": "3008ec5e",
   "metadata": {},
   "outputs": [],
   "source": [
    "import numpy as np"
   ]
  },
  {
   "cell_type": "code",
   "execution_count": 3,
   "id": "f6bea4b2",
   "metadata": {},
   "outputs": [],
   "source": [
    "from transformers import ViTFeatureExtractor,ViTForImageClassification"
   ]
  },
  {
   "cell_type": "code",
   "execution_count": 4,
   "id": "d0bbcb36",
   "metadata": {},
   "outputs": [],
   "source": [
    "import matplotlib.pyplot as plt"
   ]
  },
  {
   "cell_type": "code",
   "execution_count": 5,
   "id": "91f18ec9",
   "metadata": {},
   "outputs": [],
   "source": [
    "from PIL import Image,ImageOps"
   ]
  },
  {
   "cell_type": "code",
   "execution_count": 6,
   "id": "f652b659",
   "metadata": {},
   "outputs": [],
   "source": [
    "img = Image.open(r\"C:\\Users\\teoht\\OneDrive\\Library\\AI\\Data\\Pneumonia\\train\\NORMAL\\IM-0115-0001.jpeg\")"
   ]
  },
  {
   "cell_type": "code",
   "execution_count": 8,
   "id": "71dac6c6",
   "metadata": {},
   "outputs": [],
   "source": [
    "img = img.resize((150,150))"
   ]
  },
  {
   "cell_type": "code",
   "execution_count": 10,
   "id": "791cd3e4",
   "metadata": {},
   "outputs": [],
   "source": [
    "img = ImageOps.colorize(img,black=\"black\",white=\"white\")"
   ]
  },
  {
   "cell_type": "code",
   "execution_count": 13,
   "id": "80ece445",
   "metadata": {},
   "outputs": [
    {
     "name": "stderr",
     "output_type": "stream",
     "text": [
      "C:\\Users\\teoht\\anaconda3\\Lib\\site-packages\\transformers\\models\\vit\\feature_extraction_vit.py:28: FutureWarning: The class ViTFeatureExtractor is deprecated and will be removed in version 5 of Transformers. Please use ViTImageProcessor instead.\n",
      "  warnings.warn(\n"
     ]
    }
   ],
   "source": [
    "model = ViTFeatureExtractor.from_pretrained(\"google/vit-base-patch16-224\")"
   ]
  },
  {
   "cell_type": "code",
   "execution_count": 14,
   "id": "280ac24a",
   "metadata": {},
   "outputs": [],
   "source": [
    "img = model(images=img)"
   ]
  },
  {
   "cell_type": "code",
   "execution_count": 20,
   "id": "8837a582",
   "metadata": {},
   "outputs": [],
   "source": [
    "img = img[\"pixel_values\"]"
   ]
  },
  {
   "cell_type": "code",
   "execution_count": 22,
   "id": "d94d0a21",
   "metadata": {},
   "outputs": [],
   "source": [
    "img = np.array(img)"
   ]
  },
  {
   "cell_type": "code",
   "execution_count": 23,
   "id": "47476066",
   "metadata": {},
   "outputs": [
    {
     "data": {
      "text/plain": [
       "(1, 3, 224, 224)"
      ]
     },
     "execution_count": 23,
     "metadata": {},
     "output_type": "execute_result"
    }
   ],
   "source": [
    "img.shape"
   ]
  },
  {
   "cell_type": "code",
   "execution_count": 24,
   "id": "96975f08",
   "metadata": {},
   "outputs": [],
   "source": [
    "img = img.flatten()"
   ]
  },
  {
   "cell_type": "code",
   "execution_count": 25,
   "id": "068085fe",
   "metadata": {},
   "outputs": [
    {
     "data": {
      "text/plain": [
       "(150528,)"
      ]
     },
     "execution_count": 25,
     "metadata": {},
     "output_type": "execute_result"
    }
   ],
   "source": [
    "img.shape"
   ]
  },
  {
   "cell_type": "code",
   "execution_count": 26,
   "id": "9588dfc8",
   "metadata": {},
   "outputs": [],
   "source": [
    "X_train = []\n",
    "Y_train = []\n",
    "err_counter = 1"
   ]
  },
  {
   "cell_type": "code",
   "execution_count": 29,
   "id": "f80ca1ca",
   "metadata": {},
   "outputs": [
    {
     "name": "stdout",
     "output_type": "stream",
     "text": [
      "NORMAL\n",
      "PNEUMONIA\n",
      "errror is   , counter is  1\n",
      "errror is   , counter is  2\n",
      "errror is   , counter is  3\n",
      "errror is   , counter is  4\n",
      "errror is   , counter is  5\n",
      "errror is   , counter is  6\n",
      "errror is   , counter is  7\n",
      "errror is   , counter is  8\n",
      "errror is   , counter is  9\n",
      "errror is   , counter is  10\n",
      "errror is   , counter is  11\n",
      "errror is   , counter is  12\n",
      "errror is   , counter is  13\n",
      "errror is   , counter is  14\n",
      "errror is   , counter is  15\n",
      "errror is   , counter is  16\n",
      "errror is   , counter is  17\n",
      "errror is   , counter is  18\n",
      "errror is   , counter is  19\n",
      "errror is   , counter is  20\n",
      "errror is   , counter is  21\n",
      "errror is   , counter is  22\n",
      "errror is   , counter is  23\n",
      "errror is   , counter is  24\n",
      "errror is   , counter is  25\n",
      "errror is   , counter is  26\n",
      "errror is   , counter is  27\n",
      "errror is   , counter is  28\n",
      "errror is   , counter is  29\n",
      "errror is   , counter is  30\n",
      "errror is   , counter is  31\n",
      "errror is   , counter is  32\n",
      "errror is   , counter is  33\n",
      "errror is   , counter is  34\n",
      "errror is   , counter is  35\n",
      "errror is   , counter is  36\n",
      "errror is   , counter is  37\n",
      "errror is   , counter is  38\n",
      "errror is   , counter is  39\n",
      "errror is   , counter is  40\n",
      "errror is   , counter is  41\n",
      "errror is   , counter is  42\n",
      "errror is   , counter is  43\n",
      "errror is   , counter is  44\n",
      "errror is   , counter is  45\n",
      "errror is   , counter is  46\n",
      "errror is   , counter is  47\n",
      "errror is   , counter is  48\n",
      "errror is   , counter is  49\n",
      "errror is   , counter is  50\n",
      "errror is   , counter is  51\n",
      "errror is   , counter is  52\n",
      "errror is   , counter is  53\n",
      "errror is   , counter is  54\n",
      "errror is   , counter is  55\n",
      "errror is   , counter is  56\n",
      "errror is   , counter is  57\n",
      "errror is   , counter is  58\n",
      "errror is   , counter is  59\n",
      "errror is   , counter is  60\n",
      "errror is   , counter is  61\n",
      "errror is   , counter is  62\n",
      "errror is   , counter is  63\n",
      "errror is   , counter is  64\n",
      "errror is   , counter is  65\n",
      "errror is   , counter is  66\n",
      "errror is   , counter is  67\n",
      "errror is   , counter is  68\n",
      "errror is   , counter is  69\n",
      "errror is   , counter is  70\n",
      "errror is   , counter is  71\n",
      "errror is   , counter is  72\n",
      "errror is   , counter is  73\n",
      "errror is   , counter is  74\n",
      "errror is   , counter is  75\n",
      "errror is   , counter is  76\n",
      "errror is   , counter is  77\n",
      "errror is   , counter is  78\n",
      "errror is   , counter is  79\n",
      "errror is   , counter is  80\n",
      "errror is   , counter is  81\n",
      "errror is   , counter is  82\n",
      "errror is   , counter is  83\n",
      "errror is   , counter is  84\n",
      "errror is   , counter is  85\n",
      "errror is   , counter is  86\n",
      "errror is   , counter is  87\n",
      "errror is   , counter is  88\n",
      "errror is   , counter is  89\n",
      "errror is   , counter is  90\n",
      "errror is   , counter is  91\n",
      "errror is   , counter is  92\n",
      "errror is   , counter is  93\n",
      "errror is   , counter is  94\n",
      "errror is   , counter is  95\n",
      "errror is   , counter is  96\n",
      "errror is   , counter is  97\n",
      "errror is   , counter is  98\n",
      "errror is   , counter is  99\n",
      "errror is   , counter is  100\n",
      "errror is   , counter is  101\n",
      "errror is   , counter is  102\n",
      "errror is   , counter is  103\n",
      "errror is   , counter is  104\n",
      "errror is   , counter is  105\n",
      "errror is   , counter is  106\n",
      "errror is   , counter is  107\n",
      "errror is   , counter is  108\n",
      "errror is   , counter is  109\n",
      "errror is   , counter is  110\n",
      "errror is   , counter is  111\n",
      "errror is   , counter is  112\n",
      "errror is   , counter is  113\n",
      "errror is   , counter is  114\n",
      "errror is   , counter is  115\n",
      "errror is   , counter is  116\n",
      "errror is   , counter is  117\n",
      "errror is   , counter is  118\n",
      "errror is   , counter is  119\n",
      "errror is   , counter is  120\n",
      "errror is   , counter is  121\n",
      "errror is   , counter is  122\n",
      "errror is   , counter is  123\n",
      "errror is   , counter is  124\n",
      "errror is   , counter is  125\n",
      "errror is   , counter is  126\n",
      "errror is   , counter is  127\n",
      "errror is   , counter is  128\n",
      "errror is   , counter is  129\n",
      "errror is   , counter is  130\n",
      "errror is   , counter is  131\n",
      "errror is   , counter is  132\n",
      "errror is   , counter is  133\n",
      "errror is   , counter is  134\n",
      "errror is   , counter is  135\n",
      "errror is   , counter is  136\n",
      "errror is   , counter is  137\n",
      "errror is   , counter is  138\n",
      "errror is   , counter is  139\n",
      "errror is   , counter is  140\n",
      "errror is   , counter is  141\n",
      "errror is   , counter is  142\n",
      "errror is   , counter is  143\n",
      "errror is   , counter is  144\n",
      "errror is   , counter is  145\n",
      "errror is   , counter is  146\n",
      "errror is   , counter is  147\n",
      "errror is   , counter is  148\n",
      "errror is   , counter is  149\n",
      "errror is   , counter is  150\n",
      "errror is   , counter is  151\n",
      "errror is   , counter is  152\n",
      "errror is   , counter is  153\n",
      "errror is   , counter is  154\n",
      "errror is   , counter is  155\n",
      "errror is   , counter is  156\n",
      "errror is   , counter is  157\n",
      "errror is   , counter is  158\n",
      "errror is   , counter is  159\n",
      "errror is   , counter is  160\n",
      "errror is   , counter is  161\n",
      "errror is   , counter is  162\n",
      "errror is   , counter is  163\n",
      "errror is   , counter is  164\n",
      "errror is   , counter is  165\n",
      "errror is   , counter is  166\n",
      "errror is   , counter is  167\n",
      "errror is   , counter is  168\n",
      "errror is   , counter is  169\n",
      "errror is   , counter is  170\n",
      "errror is   , counter is  171\n",
      "errror is   , counter is  172\n",
      "errror is   , counter is  173\n",
      "errror is   , counter is  174\n",
      "errror is   , counter is  175\n",
      "errror is   , counter is  176\n",
      "errror is   , counter is  177\n",
      "errror is   , counter is  178\n",
      "errror is   , counter is  179\n",
      "errror is   , counter is  180\n",
      "errror is   , counter is  181\n",
      "errror is   , counter is  182\n",
      "errror is   , counter is  183\n",
      "errror is   , counter is  184\n",
      "errror is   , counter is  185\n",
      "errror is   , counter is  186\n",
      "errror is   , counter is  187\n",
      "errror is   , counter is  188\n",
      "errror is   , counter is  189\n",
      "errror is   , counter is  190\n",
      "errror is   , counter is  191\n",
      "errror is   , counter is  192\n",
      "errror is   , counter is  193\n",
      "errror is   , counter is  194\n",
      "errror is   , counter is  195\n",
      "errror is   , counter is  196\n",
      "errror is   , counter is  197\n",
      "errror is   , counter is  198\n",
      "errror is   , counter is  199\n",
      "errror is   , counter is  200\n",
      "errror is   , counter is  201\n",
      "errror is   , counter is  202\n",
      "errror is   , counter is  203\n",
      "errror is   , counter is  204\n",
      "errror is   , counter is  205\n",
      "errror is   , counter is  206\n",
      "errror is   , counter is  207\n",
      "errror is   , counter is  208\n",
      "errror is   , counter is  209\n",
      "errror is   , counter is  210\n",
      "errror is   , counter is  211\n",
      "errror is   , counter is  212\n",
      "errror is   , counter is  213\n",
      "errror is   , counter is  214\n",
      "errror is   , counter is  215\n",
      "errror is   , counter is  216\n",
      "errror is   , counter is  217\n",
      "errror is   , counter is  218\n",
      "errror is   , counter is  219\n",
      "errror is   , counter is  220\n",
      "errror is   , counter is  221\n",
      "errror is   , counter is  222\n",
      "errror is   , counter is  223\n",
      "errror is   , counter is  224\n",
      "errror is   , counter is  225\n",
      "errror is   , counter is  226\n",
      "errror is   , counter is  227\n",
      "errror is   , counter is  228\n",
      "errror is   , counter is  229\n",
      "errror is   , counter is  230\n",
      "errror is   , counter is  231\n",
      "errror is   , counter is  232\n",
      "errror is   , counter is  233\n",
      "errror is   , counter is  234\n",
      "errror is   , counter is  235\n",
      "errror is   , counter is  236\n",
      "errror is   , counter is  237\n",
      "errror is   , counter is  238\n",
      "errror is   , counter is  239\n",
      "errror is   , counter is  240\n",
      "errror is   , counter is  241\n",
      "errror is   , counter is  242\n",
      "errror is   , counter is  243\n",
      "errror is   , counter is  244\n",
      "errror is   , counter is  245\n",
      "errror is   , counter is  246\n",
      "errror is   , counter is  247\n",
      "errror is   , counter is  248\n",
      "errror is   , counter is  249\n",
      "errror is   , counter is  250\n",
      "errror is   , counter is  251\n",
      "errror is   , counter is  252\n",
      "errror is   , counter is  253\n",
      "errror is   , counter is  254\n",
      "errror is   , counter is  255\n",
      "errror is   , counter is  256\n",
      "errror is   , counter is  257\n",
      "errror is   , counter is  258\n",
      "errror is   , counter is  259\n",
      "errror is   , counter is  260\n",
      "errror is   , counter is  261\n",
      "errror is   , counter is  262\n",
      "errror is   , counter is  263\n",
      "errror is   , counter is  264\n",
      "errror is   , counter is  265\n",
      "errror is   , counter is  266\n",
      "errror is   , counter is  267\n",
      "errror is   , counter is  268\n",
      "errror is   , counter is  269\n",
      "errror is   , counter is  270\n",
      "errror is   , counter is  271\n",
      "errror is   , counter is  272\n",
      "errror is   , counter is  273\n",
      "errror is   , counter is  274\n",
      "errror is   , counter is  275\n",
      "errror is   , counter is  276\n",
      "errror is   , counter is  277\n",
      "errror is   , counter is  278\n",
      "errror is   , counter is  279\n",
      "errror is   , counter is  280\n",
      "errror is   , counter is  281\n",
      "errror is   , counter is  282\n",
      "errror is   , counter is  283\n"
     ]
    }
   ],
   "source": [
    "import os\n",
    "train_dir = r\"C:\\Users\\teoht\\OneDrive\\Library\\AI\\Data\\Pneumonia\\train\"\n",
    "test_dir = r\"C:\\Users\\teoht\\OneDrive\\Library\\AI\\Data\\Pneumonia\\test\"\n",
    "\n",
    "for i in os.listdir(train_dir):\n",
    "    print(i)\n",
    "    for j in os.listdir(train_dir + \"/\" + i + \"/\"):\n",
    "        try:\n",
    "            img = Image.open(train_dir + \"/\" + i + \"/\" + j)\n",
    "            img = img.resize((150,150))\n",
    "            img = ImageOps.colorize(img,black=\"black\",white=\"white\") \n",
    "            img = model(images=img)\n",
    "            img = img[\"pixel_values\"]\n",
    "            img = np.array(img)\n",
    "            X_train.append(img.flatten()/255)\n",
    "            Y_train.append(i) \n",
    "        except Exception as e:\n",
    "            print(\"errror is \", e, \", counter is \", err_counter)\n",
    "            err_counter = err_counter + 1"
   ]
  },
  {
   "cell_type": "code",
   "execution_count": 30,
   "id": "a9db3285",
   "metadata": {},
   "outputs": [],
   "source": [
    "X_test = []\n",
    "Y_test = []\n",
    "err_counter = 1"
   ]
  },
  {
   "cell_type": "code",
   "execution_count": 31,
   "id": "c4dd8194",
   "metadata": {},
   "outputs": [
    {
     "name": "stdout",
     "output_type": "stream",
     "text": [
      "NORMAL\n",
      "PNEUMONIA\n"
     ]
    }
   ],
   "source": [
    "for i in os.listdir(test_dir):\n",
    "    print(i)\n",
    "    for j in os.listdir(test_dir + \"/\" + i + \"/\"):\n",
    "        try:\n",
    "            img = Image.open(test_dir + \"/\" + i + \"/\" + j)\n",
    "            img = img.resize((150,150))\n",
    "            img = ImageOps.colorize(img,black=\"black\",white=\"white\") \n",
    "            img = model(images=img)\n",
    "            img = img[\"pixel_values\"]\n",
    "            img = np.array(img)\n",
    "            X_test.append(img.flatten()/255)\n",
    "            Y_test.append(i) \n",
    "        except Exception as e:\n",
    "            print(\"errror is \", e, \", counter is \", err_counter)\n",
    "            err_counter = err_counter + 1"
   ]
  },
  {
   "cell_type": "code",
   "execution_count": 32,
   "id": "106ab694",
   "metadata": {},
   "outputs": [
    {
     "name": "stdout",
     "output_type": "stream",
     "text": [
      "[[ 81 153]\n",
      " [  6 384]]\n",
      "accuracy is  0.7451923076923077\n"
     ]
    }
   ],
   "source": [
    "from sklearn import linear_model\n",
    "from sklearn.metrics import confusion_matrix\n",
    "\n",
    "model = linear_model.LogisticRegression()\n",
    "model.fit(X_train,Y_train)\n",
    "pred = model.predict(X_test)\n",
    "cm = confusion_matrix(Y_test,pred)\n",
    "print(cm)\n",
    "print(\"accuracy is \", (cm[0,0]+cm[1,1])/(sum(sum(cm))))"
   ]
  },
  {
   "cell_type": "code",
   "execution_count": null,
   "id": "dcd10a89",
   "metadata": {},
   "outputs": [],
   "source": [
    "from sklearn import ensemble\n",
    "\n",
    "model = ensemble.RandomForestClassifier()\n",
    "model.fit(X_train,Y_train)\n",
    "pred = model.predict(X_test)\n",
    "cm = confusion_matrix(Y_test,pred)\n",
    "print(cm)\n",
    "print(\"accuracy is \", (cm[0,0]+cm[1,1])/(sum(sum(cm))))"
   ]
  },
  {
   "cell_type": "code",
   "execution_count": null,
   "id": "8064fd27",
   "metadata": {},
   "outputs": [],
   "source": [
    "from sklearn import neural_network\n",
    "\n",
    "model = neural_network.MLPClassifier()\n",
    "model.fit(X_train,Y_train)\n",
    "pred = model.predict(X_test)\n",
    "cm = confusion_matrix(Y_test,pred)\n",
    "print(cm)\n",
    "print(\"accuracy is \", (cm[0,0]+cm[1,1])/(sum(sum(cm))))"
   ]
  },
  {
   "cell_type": "code",
   "execution_count": null,
   "id": "2b0d09d4",
   "metadata": {},
   "outputs": [],
   "source": []
  }
 ],
 "metadata": {
  "kernelspec": {
   "display_name": "Python 3 (ipykernel)",
   "language": "python",
   "name": "python3"
  },
  "language_info": {
   "codemirror_mode": {
    "name": "ipython",
    "version": 3
   },
   "file_extension": ".py",
   "mimetype": "text/x-python",
   "name": "python",
   "nbconvert_exporter": "python",
   "pygments_lexer": "ipython3",
   "version": "3.11.4"
  }
 },
 "nbformat": 4,
 "nbformat_minor": 5
}
